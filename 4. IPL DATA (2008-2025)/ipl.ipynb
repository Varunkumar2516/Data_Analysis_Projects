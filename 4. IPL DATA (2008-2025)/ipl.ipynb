{
 "cells": [
  {
   "cell_type": "code",
   "execution_count": 2,
   "id": "b13c2eb4",
   "metadata": {},
   "outputs": [],
   "source": [
    "import numpy as np\n",
    "import pandas as pd\n",
    "import matplotlib.pyplot as plt\n",
    "import seaborn as sns"
   ]
  },
  {
   "cell_type": "code",
   "execution_count": 3,
   "id": "c262cad8",
   "metadata": {},
   "outputs": [
    {
     "name": "stderr",
     "output_type": "stream",
     "text": [
      "C:\\Users\\a\\AppData\\Local\\Temp\\ipykernel_8004\\1393846161.py:1: DtypeWarning: Columns (28,29,30,31,43,46,47,48,51) have mixed types. Specify dtype option on import or set low_memory=False.\n",
      "  df=pd.read_csv(\"IPL.csv\")\n"
     ]
    }
   ],
   "source": [
    "df=pd.read_csv(\"IPL.csv\")"
   ]
  },
  {
   "cell_type": "code",
   "execution_count": 4,
   "id": "44408c86",
   "metadata": {},
   "outputs": [
    {
     "name": "stdout",
     "output_type": "stream",
     "text": [
      "<class 'pandas.core.frame.DataFrame'>\n",
      "RangeIndex: 278205 entries, 0 to 278204\n",
      "Data columns (total 64 columns):\n",
      " #   Column             Non-Null Count   Dtype  \n",
      "---  ------             --------------   -----  \n",
      " 0   Unnamed: 0         278205 non-null  int64  \n",
      " 1   match_id           278205 non-null  int64  \n",
      " 2   date               278205 non-null  object \n",
      " 3   match_type         278205 non-null  object \n",
      " 4   event_name         278205 non-null  object \n",
      " 5   innings            278205 non-null  int64  \n",
      " 6   batting_team       278205 non-null  object \n",
      " 7   bowling_team       278205 non-null  object \n",
      " 8   over               278205 non-null  int64  \n",
      " 9   ball               278205 non-null  int64  \n",
      " 10  ball_no            278205 non-null  float64\n",
      " 11  batter             278205 non-null  object \n",
      " 12  bat_pos            278205 non-null  int64  \n",
      " 13  runs_batter        278205 non-null  int64  \n",
      " 14  balls_faced        278205 non-null  int64  \n",
      " 15  bowler             278205 non-null  object \n",
      " 16  valid_ball         278205 non-null  int64  \n",
      " 17  runs_extras        278205 non-null  int64  \n",
      " 18  runs_total         278205 non-null  int64  \n",
      " 19  runs_bowler        278205 non-null  int64  \n",
      " 20  runs_not_boundary  278205 non-null  bool   \n",
      " 21  extra_type         15133 non-null   object \n",
      " 22  non_striker        278205 non-null  object \n",
      " 23  non_striker_pos    278205 non-null  int64  \n",
      " 24  wicket_kind        13823 non-null   object \n",
      " 25  player_out         13823 non-null   object \n",
      " 26  fielders           10013 non-null   object \n",
      " 27  runs_target        133903 non-null  float64\n",
      " 28  review_batter      872 non-null     object \n",
      " 29  team_reviewed      872 non-null     object \n",
      " 30  review_decision    872 non-null     object \n",
      " 31  umpire             872 non-null     object \n",
      " 32  umpires_call       278205 non-null  bool   \n",
      " 33  player_of_match    278205 non-null  object \n",
      " 34  match_won_by       278205 non-null  object \n",
      " 35  win_outcome        273503 non-null  object \n",
      " 36  toss_winner        278205 non-null  object \n",
      " 37  toss_decision      278205 non-null  object \n",
      " 38  venue              278205 non-null  object \n",
      " 39  city               278205 non-null  object \n",
      " 40  day                278205 non-null  int64  \n",
      " 41  month              278205 non-null  int64  \n",
      " 42  year               278205 non-null  int64  \n",
      " 43  season             278205 non-null  object \n",
      " 44  gender             278205 non-null  object \n",
      " 45  team_type          278205 non-null  object \n",
      " 46  superover_winner   3896 non-null    object \n",
      " 47  result_type        4702 non-null    object \n",
      " 48  method             3890 non-null    object \n",
      " 49  balls_per_over     278205 non-null  int64  \n",
      " 50  overs              278205 non-null  int64  \n",
      " 51  event_match_no     278205 non-null  object \n",
      " 52  stage              278205 non-null  object \n",
      " 53  match_number       278205 non-null  object \n",
      " 54  team_runs          278205 non-null  int64  \n",
      " 55  team_balls         278205 non-null  int64  \n",
      " 56  team_wicket        278205 non-null  int64  \n",
      " 57  new_batter         13321 non-null   object \n",
      " 58  batter_runs        278205 non-null  int64  \n",
      " 59  batter_balls       278205 non-null  int64  \n",
      " 60  bowler_wicket      278205 non-null  int64  \n",
      " 61  batting_partners   278205 non-null  object \n",
      " 62  next_batter        13321 non-null   object \n",
      " 63  striker_out        278205 non-null  bool   \n",
      "dtypes: bool(3), float64(2), int64(24), object(35)\n",
      "memory usage: 130.3+ MB\n"
     ]
    }
   ],
   "source": [
    "df.info()"
   ]
  },
  {
   "cell_type": "code",
   "execution_count": null,
   "id": "03447570",
   "metadata": {},
   "outputs": [],
   "source": []
  }
 ],
 "metadata": {
  "kernelspec": {
   "display_name": "Python 3",
   "language": "python",
   "name": "python3"
  },
  "language_info": {
   "codemirror_mode": {
    "name": "ipython",
    "version": 3
   },
   "file_extension": ".py",
   "mimetype": "text/x-python",
   "name": "python",
   "nbconvert_exporter": "python",
   "pygments_lexer": "ipython3",
   "version": "3.13.5"
  }
 },
 "nbformat": 4,
 "nbformat_minor": 5
}
